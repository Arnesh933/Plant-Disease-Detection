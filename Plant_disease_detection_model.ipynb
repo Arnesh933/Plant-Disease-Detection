{
  "cells": [
    {
      "cell_type": "code",
      "execution_count": null,
      "metadata": {
        "_cell_guid": "b1076dfc-b9ad-4769-8c92-a6c4dae69d19",
        "_uuid": "8f2839f25d086af736a60e9eeb907d3b93b6e0e5",
        "execution": {
          "iopub.execute_input": "2024-12-30T08:32:06.331577Z",
          "iopub.status.busy": "2024-12-30T08:32:06.331392Z",
          "iopub.status.idle": "2024-12-30T08:32:15.763420Z",
          "shell.execute_reply": "2024-12-30T08:32:15.762752Z",
          "shell.execute_reply.started": "2024-12-30T08:32:06.331559Z"
        },
        "id": "_W28ZK_gX2f1"
      },
      "outputs": [],
      "source": [
        "import os\n",
        "import numpy as np\n",
        "import matplotlib.pyplot as plt\n",
        "import tensorflow as tf\n",
        "from tensorflow.keras import layers, models\n",
        "from tensorflow.keras.preprocessing.image import ImageDataGenerator\n",
        "from tensorflow.keras.applications import VGG16\n",
        "from tensorflow.keras.callbacks import ModelCheckpoint, EarlyStopping\n",
        "\n",
        "import cv2\n",
        "import re\n",
        "from tensorflow.keras.models import load_model\n",
        "import pandas as pd"
      ]
    },
    {
      "cell_type": "code",
      "execution_count": null,
      "metadata": {
        "execution": {
          "iopub.execute_input": "2024-12-30T08:33:07.305693Z",
          "iopub.status.busy": "2024-12-30T08:33:07.305368Z",
          "iopub.status.idle": "2024-12-30T08:33:07.309643Z",
          "shell.execute_reply": "2024-12-30T08:33:07.308542Z",
          "shell.execute_reply.started": "2024-12-30T08:33:07.305670Z"
        },
        "id": "Xf4IoIbqX2f2"
      },
      "outputs": [],
      "source": [
        "import warnings\n",
        "warnings.filterwarnings('ignore')"
      ]
    },
    {
      "cell_type": "code",
      "execution_count": null,
      "metadata": {
        "execution": {
          "iopub.execute_input": "2024-12-30T08:33:34.155218Z",
          "iopub.status.busy": "2024-12-30T08:33:34.154809Z",
          "iopub.status.idle": "2024-12-30T08:33:34.159290Z",
          "shell.execute_reply": "2024-12-30T08:33:34.158269Z",
          "shell.execute_reply.started": "2024-12-30T08:33:34.155188Z"
        },
        "id": "chfQOqCIX2f3"
      },
      "outputs": [],
      "source": [
        "train='/kaggle/input/new-plant-diseases-dataset/New Plant Diseases Dataset(Augmented)/New Plant Diseases Dataset(Augmented)/train/'\n",
        "valid='/kaggle/input/new-plant-diseases-dataset/New Plant Diseases Dataset(Augmented)/New Plant Diseases Dataset(Augmented)/valid/'"
      ]
    },
    {
      "cell_type": "code",
      "execution_count": null,
      "metadata": {
        "execution": {
          "iopub.execute_input": "2024-12-30T08:33:36.425804Z",
          "iopub.status.busy": "2024-12-30T08:33:36.425502Z",
          "iopub.status.idle": "2024-12-30T08:33:36.429232Z",
          "shell.execute_reply": "2024-12-30T08:33:36.428542Z",
          "shell.execute_reply.started": "2024-12-30T08:33:36.425779Z"
        },
        "id": "GSm9xieUX2f3"
      },
      "outputs": [],
      "source": [
        "IMAGE_SIZE = 224\n",
        "BATCH_SIZE = 64\n",
        "NUM_CLASSES = 38  # NUMBER OF CLASSES\n",
        "EPOCHS = 45"
      ]
    },
    {
      "cell_type": "code",
      "execution_count": null,
      "metadata": {
        "execution": {
          "iopub.execute_input": "2024-12-30T08:33:39.915656Z",
          "iopub.status.busy": "2024-12-30T08:33:39.915388Z",
          "iopub.status.idle": "2024-12-30T08:33:39.919850Z",
          "shell.execute_reply": "2024-12-30T08:33:39.919155Z",
          "shell.execute_reply.started": "2024-12-30T08:33:39.915637Z"
        },
        "id": "qLqEQLpkX2f3"
      },
      "outputs": [],
      "source": [
        "train_datagen=tf.keras.preprocessing.image.ImageDataGenerator(\n",
        "    rotation_range=90,\n",
        "    width_shift_range=0.0,\n",
        "    height_shift_range=0.0,\n",
        "    shear_range=0.0,\n",
        "    zoom_range=0.0,\n",
        "    horizontal_flip=True,\n",
        "    vertical_flip=False,\n",
        "    rescale=1/255.0,\n",
        "    preprocessing_function=None,\n",
        "    validation_split=0.1,\n",
        ")\n",
        "valid_datagen = ImageDataGenerator(\n",
        "    rescale=1./255,\n",
        "    validation_split=0.1\n",
        ")\n"
      ]
    },
    {
      "cell_type": "code",
      "execution_count": null,
      "metadata": {
        "execution": {
          "iopub.execute_input": "2024-12-30T08:34:25.443466Z",
          "iopub.status.busy": "2024-12-30T08:34:25.443175Z",
          "iopub.status.idle": "2024-12-30T08:35:05.934781Z",
          "shell.execute_reply": "2024-12-30T08:35:05.934019Z",
          "shell.execute_reply.started": "2024-12-30T08:34:25.443446Z"
        },
        "id": "T0OOvWzjX2f3",
        "outputId": "2a81b99f-6b4e-4be9-997d-d081f07a4250"
      },
      "outputs": [
        {
          "name": "stdout",
          "output_type": "stream",
          "text": [
            "Found 63282 images belonging to 38 classes.\n",
            "Found 1742 images belonging to 38 classes.\n"
          ]
        }
      ],
      "source": [
        "train_generator = train_datagen.flow_from_directory(train,\n",
        "                      batch_size=BATCH_SIZE,\n",
        "                      target_size=(IMAGE_SIZE, IMAGE_SIZE),\n",
        "                      subset=\"training\",\n",
        "                      color_mode='rgb',\n",
        "                      class_mode='categorical',  # using 'categorical' as multiclass classification\n",
        "                      shuffle=True)\n",
        "\n",
        "valid_generator = valid_datagen.flow_from_directory(\n",
        "    valid,\n",
        "    target_size=(IMAGE_SIZE, IMAGE_SIZE),\n",
        "    batch_size=BATCH_SIZE,\n",
        "    subset='validation',\n",
        "    color_mode='rgb',\n",
        "    class_mode='categorical',\n",
        "    shuffle=False\n",
        ")\n"
      ]
    },
    {
      "cell_type": "code",
      "execution_count": null,
      "metadata": {
        "execution": {
          "iopub.execute_input": "2024-12-30T08:38:49.276576Z",
          "iopub.status.busy": "2024-12-30T08:38:49.276231Z",
          "iopub.status.idle": "2024-12-30T08:38:49.282197Z",
          "shell.execute_reply": "2024-12-30T08:38:49.281407Z",
          "shell.execute_reply.started": "2024-12-30T08:38:49.276553Z"
        },
        "id": "_rAzubCJX2f3"
      },
      "outputs": [],
      "source": [
        "def create_model(input_shape, n_classes, optimizer, fine_tune=0):\n",
        "    base=VGG16(include_top=False,\n",
        "                   weights='imagenet',\n",
        "                   input_shape=input_shape)\n",
        "    for layer in base.layers:\n",
        "        layer.trainable=False\n",
        "    top = base.output\n",
        "    top=layers.Flatten(name=\"flatten\")(top)\n",
        "    top=layers.Dense(4096, activation='relu')(top)\n",
        "    top=layers.Dense(1072, activation='relu')(top)\n",
        "    top=layers.Dropout(0.2)(top)\n",
        "    output=layers.Dense(n_classes, activation='softmax')(top)\n",
        "\n",
        "    model=models.Model(inputs=base.input, outputs=output)\n",
        "    model.compile(optimizer=optimizer,\n",
        "                 loss='categorical_crossentropy',\n",
        "                 metrics=['accuracy', 'f1_score', 'precision'])\n",
        "    return model"
      ]
    },
    {
      "cell_type": "code",
      "execution_count": null,
      "metadata": {
        "execution": {
          "iopub.execute_input": "2024-12-30T08:39:07.244574Z",
          "iopub.status.busy": "2024-12-30T08:39:07.244265Z",
          "iopub.status.idle": "2024-12-30T08:39:09.165270Z",
          "shell.execute_reply": "2024-12-30T08:39:09.164356Z",
          "shell.execute_reply.started": "2024-12-30T08:39:07.244553Z"
        },
        "id": "V-qh79bYX2f3",
        "outputId": "97208569-2ad9-45a5-988c-cccfbde68c45"
      },
      "outputs": [
        {
          "name": "stdout",
          "output_type": "stream",
          "text": [
            "Downloading data from https://storage.googleapis.com/tensorflow/keras-applications/vgg16/vgg16_weights_tf_dim_ordering_tf_kernels_notop.h5\n",
            "\u001b[1m58889256/58889256\u001b[0m \u001b[32m━━━━━━━━━━━━━━━━━━━━\u001b[0m\u001b[37m\u001b[0m \u001b[1m0s\u001b[0m 0us/step\n"
          ]
        }
      ],
      "source": [
        "input_shape=(224,224,3)\n",
        "optim=tf.keras.optimizers.Adam(learning_rate=1e-4)\n",
        "vgg=create_model(input_shape, 38, optim, fine_tune=0)"
      ]
    },
    {
      "cell_type": "code",
      "execution_count": null,
      "metadata": {
        "execution": {
          "iopub.execute_input": "2024-12-30T08:41:11.594433Z",
          "iopub.status.busy": "2024-12-30T08:41:11.594044Z",
          "iopub.status.idle": "2024-12-30T08:41:11.598482Z",
          "shell.execute_reply": "2024-12-30T08:41:11.597698Z",
          "shell.execute_reply.started": "2024-12-30T08:41:11.594407Z"
        },
        "id": "kfz6w64iX2f3"
      },
      "outputs": [],
      "source": [
        "checkpoint=ModelCheckpoint(filepath='best_vgg16_plant_disease.keras', save_best_only=True, verbose=1)\n",
        "early_stop=EarlyStopping(monitor='val_loss', patience=5, restore_best_weights=True, mode='min')"
      ]
    },
    {
      "cell_type": "markdown",
      "metadata": {
        "id": "unfjH8fCX2f4"
      },
      "source": [
        "### Model Training"
      ]
    },
    {
      "cell_type": "code",
      "execution_count": null,
      "metadata": {
        "execution": {
          "iopub.execute_input": "2024-12-30T08:41:28.156620Z",
          "iopub.status.busy": "2024-12-30T08:41:28.156332Z",
          "iopub.status.idle": "2024-12-30T10:52:29.552793Z",
          "shell.execute_reply": "2024-12-30T10:52:29.552051Z",
          "shell.execute_reply.started": "2024-12-30T08:41:28.156599Z"
        },
        "id": "c1Aoh5UFX2f4",
        "outputId": "3f57f4d6-3561-47aa-bb03-1cabf46e2ce6"
      },
      "outputs": [
        {
          "name": "stdout",
          "output_type": "stream",
          "text": [
            "Epoch 1/10\n",
            "\u001b[1m989/989\u001b[0m \u001b[32m━━━━━━━━━━━━━━━━━━━━\u001b[0m\u001b[37m\u001b[0m \u001b[1m0s\u001b[0m 933ms/step - accuracy: 0.6672 - f1_score: 0.6652 - loss: 1.1645 - precision: 0.8537\n",
            "Epoch 1: val_loss improved from inf to 0.41804, saving model to best_vgg16_plant_disease.keras\n",
            "\u001b[1m989/989\u001b[0m \u001b[32m━━━━━━━━━━━━━━━━━━━━\u001b[0m\u001b[37m\u001b[0m \u001b[1m973s\u001b[0m 954ms/step - accuracy: 0.6673 - f1_score: 0.6653 - loss: 1.1640 - precision: 0.8537 - val_accuracy: 0.8663 - val_f1_score: 0.8651 - val_loss: 0.4180 - val_precision: 0.9014\n",
            "Epoch 2/10\n",
            "\u001b[1m989/989\u001b[0m \u001b[32m━━━━━━━━━━━━━━━━━━━━\u001b[0m\u001b[37m\u001b[0m \u001b[1m0s\u001b[0m 762ms/step - accuracy: 0.8874 - f1_score: 0.8870 - loss: 0.3428 - precision: 0.9186\n",
            "Epoch 2: val_loss improved from 0.41804 to 0.18965, saving model to best_vgg16_plant_disease.keras\n",
            "\u001b[1m989/989\u001b[0m \u001b[32m━━━━━━━━━━━━━━━━━━━━\u001b[0m\u001b[37m\u001b[0m \u001b[1m775s\u001b[0m 778ms/step - accuracy: 0.8874 - f1_score: 0.8870 - loss: 0.3428 - precision: 0.9186 - val_accuracy: 0.9286 - val_f1_score: 0.0253 - val_loss: 0.1896 - val_precision: 0.9286\n",
            "Epoch 3/10\n",
            "\u001b[1m989/989\u001b[0m \u001b[32m━━━━━━━━━━━━━━━━━━━━\u001b[0m\u001b[37m\u001b[0m \u001b[1m0s\u001b[0m 750ms/step - accuracy: 0.9115 - f1_score: 0.9112 - loss: 0.2607 - precision: 0.9316\n",
            "Epoch 3: val_loss did not improve from 0.18965\n",
            "\u001b[1m989/989\u001b[0m \u001b[32m━━━━━━━━━━━━━━━━━━━━\u001b[0m\u001b[37m\u001b[0m \u001b[1m755s\u001b[0m 758ms/step - accuracy: 0.9115 - f1_score: 0.9112 - loss: 0.2607 - precision: 0.9316 - val_accuracy: 0.9062 - val_f1_score: 0.9073 - val_loss: 0.2622 - val_precision: 0.9229\n",
            "Epoch 4/10\n",
            "\u001b[1m989/989\u001b[0m \u001b[32m━━━━━━━━━━━━━━━━━━━━\u001b[0m\u001b[37m\u001b[0m \u001b[1m0s\u001b[0m 751ms/step - accuracy: 0.9255 - f1_score: 0.9252 - loss: 0.2245 - precision: 0.9401\n",
            "Epoch 4: val_loss did not improve from 0.18965\n",
            "\u001b[1m989/989\u001b[0m \u001b[32m━━━━━━━━━━━━━━━━━━━━\u001b[0m\u001b[37m\u001b[0m \u001b[1m748s\u001b[0m 751ms/step - accuracy: 0.9255 - f1_score: 0.9252 - loss: 0.2245 - precision: 0.9401 - val_accuracy: 0.9286 - val_f1_score: 0.0253 - val_loss: 0.1934 - val_precision: 1.0000\n",
            "Epoch 5/10\n",
            "\u001b[1m989/989\u001b[0m \u001b[32m━━━━━━━━━━━━━━━━━━━━\u001b[0m\u001b[37m\u001b[0m \u001b[1m0s\u001b[0m 756ms/step - accuracy: 0.9338 - f1_score: 0.9336 - loss: 0.1952 - precision: 0.9467\n",
            "Epoch 5: val_loss did not improve from 0.18965\n",
            "\u001b[1m989/989\u001b[0m \u001b[32m━━━━━━━━━━━━━━━━━━━━\u001b[0m\u001b[37m\u001b[0m \u001b[1m760s\u001b[0m 763ms/step - accuracy: 0.9338 - f1_score: 0.9336 - loss: 0.1952 - precision: 0.9467 - val_accuracy: 0.9248 - val_f1_score: 0.9255 - val_loss: 0.2479 - val_precision: 0.9387\n",
            "Epoch 6/10\n",
            "\u001b[1m989/989\u001b[0m \u001b[32m━━━━━━━━━━━━━━━━━━━━\u001b[0m\u001b[37m\u001b[0m \u001b[1m0s\u001b[0m 750ms/step - accuracy: 0.9380 - f1_score: 0.9375 - loss: 0.1771 - precision: 0.9496\n",
            "Epoch 6: val_loss improved from 0.18965 to 0.05587, saving model to best_vgg16_plant_disease.keras\n",
            "\u001b[1m989/989\u001b[0m \u001b[32m━━━━━━━━━━━━━━━━━━━━\u001b[0m\u001b[37m\u001b[0m \u001b[1m755s\u001b[0m 758ms/step - accuracy: 0.9380 - f1_score: 0.9375 - loss: 0.1771 - precision: 0.9496 - val_accuracy: 1.0000 - val_f1_score: 0.0263 - val_loss: 0.0559 - val_precision: 1.0000\n",
            "Epoch 7/10\n",
            "\u001b[1m989/989\u001b[0m \u001b[32m━━━━━━━━━━━━━━━━━━━━\u001b[0m\u001b[37m\u001b[0m \u001b[1m0s\u001b[0m 765ms/step - accuracy: 0.9442 - f1_score: 0.9440 - loss: 0.1623 - precision: 0.9539\n",
            "Epoch 7: val_loss did not improve from 0.05587\n",
            "\u001b[1m989/989\u001b[0m \u001b[32m━━━━━━━━━━━━━━━━━━━━\u001b[0m\u001b[37m\u001b[0m \u001b[1m769s\u001b[0m 772ms/step - accuracy: 0.9442 - f1_score: 0.9440 - loss: 0.1623 - precision: 0.9539 - val_accuracy: 0.9253 - val_f1_score: 0.9255 - val_loss: 0.2032 - val_precision: 0.9362\n",
            "Epoch 8/10\n",
            "\u001b[1m989/989\u001b[0m \u001b[32m━━━━━━━━━━━━━━━━━━━━\u001b[0m\u001b[37m\u001b[0m \u001b[1m0s\u001b[0m 759ms/step - accuracy: 0.9509 - f1_score: 0.9502 - loss: 0.1443 - precision: 0.9585\n",
            "Epoch 8: val_loss did not improve from 0.05587\n",
            "\u001b[1m989/989\u001b[0m \u001b[32m━━━━━━━━━━━━━━━━━━━━\u001b[0m\u001b[37m\u001b[0m \u001b[1m756s\u001b[0m 759ms/step - accuracy: 0.9509 - f1_score: 0.9502 - loss: 0.1443 - precision: 0.9585 - val_accuracy: 1.0000 - val_f1_score: 0.0263 - val_loss: 0.0713 - val_precision: 1.0000\n",
            "Epoch 9/10\n",
            "\u001b[1m989/989\u001b[0m \u001b[32m━━━━━━━━━━━━━━━━━━━━\u001b[0m\u001b[37m\u001b[0m \u001b[1m0s\u001b[0m 778ms/step - accuracy: 0.9529 - f1_score: 0.9524 - loss: 0.1347 - precision: 0.9599\n",
            "Epoch 9: val_loss did not improve from 0.05587\n",
            "\u001b[1m989/989\u001b[0m \u001b[32m━━━━━━━━━━━━━━━━━━━━\u001b[0m\u001b[37m\u001b[0m \u001b[1m782s\u001b[0m 785ms/step - accuracy: 0.9529 - f1_score: 0.9524 - loss: 0.1347 - precision: 0.9599 - val_accuracy: 0.9352 - val_f1_score: 0.9348 - val_loss: 0.2007 - val_precision: 0.9423\n",
            "Epoch 10/10\n",
            "\u001b[1m989/989\u001b[0m \u001b[32m━━━━━━━━━━━━━━━━━━━━\u001b[0m\u001b[37m\u001b[0m \u001b[1m0s\u001b[0m 781ms/step - accuracy: 0.9563 - f1_score: 0.9562 - loss: 0.1255 - precision: 0.9623\n",
            "Epoch 10: val_loss improved from 0.05587 to 0.01150, saving model to best_vgg16_plant_disease.keras\n",
            "\u001b[1m989/989\u001b[0m \u001b[32m━━━━━━━━━━━━━━━━━━━━\u001b[0m\u001b[37m\u001b[0m \u001b[1m786s\u001b[0m 789ms/step - accuracy: 0.9563 - f1_score: 0.9562 - loss: 0.1255 - precision: 0.9623 - val_accuracy: 1.0000 - val_f1_score: 0.0263 - val_loss: 0.0115 - val_precision: 1.0000\n"
          ]
        }
      ],
      "source": [
        "history = vgg.fit(\n",
        "    train_generator,\n",
        "    epochs = 10,\n",
        "    validation_data = valid_generator,\n",
        "    validation_steps = valid_generator.samples // BATCH_SIZE,\n",
        "    callbacks = [checkpoint, early_stop]\n",
        ")\n"
      ]
    },
    {
      "cell_type": "markdown",
      "metadata": {
        "id": "glkPAVdpX2f4"
      },
      "source": [
        "## Plotting graphs"
      ]
    },
    {
      "cell_type": "code",
      "execution_count": null,
      "metadata": {
        "execution": {
          "iopub.execute_input": "2024-12-30T10:57:43.358143Z",
          "iopub.status.busy": "2024-12-30T10:57:43.357462Z",
          "iopub.status.idle": "2024-12-30T10:57:43.802355Z",
          "shell.execute_reply": "2024-12-30T10:57:43.801454Z",
          "shell.execute_reply.started": "2024-12-30T10:57:43.358111Z"
        },
        "id": "9C_rz_MrX2f4",
        "outputId": "3f9a65cb-361f-4049-b9d2-ab0cc967032e"
      },
      "outputs": [
        {
          "data": {
            "image/png": "[encoded data removed]",
            "text/plain": [
              "<Figure size 800x800 with 2 Axes>"
            ]
          },
          "metadata": {},
          "output_type": "display_data"
        }
      ],
      "source": [
        "accuracy = history.history['accuracy']\n",
        "val_accuracy = history.history['val_accuracy']\n",
        "\n",
        "loss = history.history['loss']\n",
        "val_loss = history.history['val_loss']\n",
        "\n",
        "plt.figure(figsize=(8, 8))\n",
        "\n",
        "# Plot Training & Validation Accuracy\n",
        "plt.subplot(2, 1, 1)\n",
        "plt.plot(accuracy, label='Training Accuracy')\n",
        "plt.plot(val_accuracy, label='Validation Accuracy')\n",
        "plt.legend(loc='lower right')\n",
        "plt.ylabel('Accuracy')\n",
        "plt.ylim([min(plt.ylim()), 1])\n",
        "plt.title('Training and Validation Accuracy')\n",
        "\n",
        "# Plot Training & Validation Loss\n",
        "plt.subplot(2, 1, 2)\n",
        "plt.plot(loss, label='Training Loss')\n",
        "plt.plot(val_loss, label='Validation Loss')\n",
        "plt.legend(loc='upper right')\n",
        "plt.ylabel('Cross Entropy')\n",
        "plt.ylim([0, 1.0])\n",
        "plt.title('Training and Validation Loss')\n",
        "plt.xlabel('Epoch')\n",
        "plt.show()\n"
      ]
    },
    {
      "cell_type": "markdown",
      "metadata": {
        "id": "Z7PeQ190X2f4"
      },
      "source": [
        "###  loading model"
      ]
    },
    {
      "cell_type": "code",
      "execution_count": null,
      "metadata": {
        "execution": {
          "iopub.execute_input": "2024-12-30T10:58:08.388480Z",
          "iopub.status.busy": "2024-12-30T10:58:08.388183Z",
          "iopub.status.idle": "2024-12-30T10:58:13.710783Z",
          "shell.execute_reply": "2024-12-30T10:58:13.710051Z",
          "shell.execute_reply.started": "2024-12-30T10:58:08.388455Z"
        },
        "id": "mGGkPsFDX2f4"
      },
      "outputs": [],
      "source": [
        "model=models.load_model(\"/kaggle/working/best_vgg16_plant_disease.keras\")"
      ]
    },
    {
      "cell_type": "code",
      "execution_count": null,
      "metadata": {
        "execution": {
          "iopub.execute_input": "2024-12-30T10:58:45.524504Z",
          "iopub.status.busy": "2024-12-30T10:58:45.523930Z",
          "iopub.status.idle": "2024-12-30T10:58:45.548324Z",
          "shell.execute_reply": "2024-12-30T10:58:45.547483Z",
          "shell.execute_reply.started": "2024-12-30T10:58:45.524471Z"
        },
        "id": "Tuad-MwTX2f4",
        "outputId": "6e88448f-efa3-4c86-dc4f-fec61ed59901"
      },
      "outputs": [
        {
          "name": "stdout",
          "output_type": "stream",
          "text": [
            "                                    class_name  class_index\n",
            "0                               AppleAppleScab            0\n",
            "1                                AppleBlackRot            1\n",
            "2                          AppleCedarAppleRust            2\n",
            "3                                 AppleHealthy            3\n",
            "4                             BlueberryHealthy            4\n",
            "5           Cherry(includingSour)PowderyMildew            5\n",
            "6                 Cherry(includingSour)Healthy            6\n",
            "7   Corn(maize)CercosporaLeafSpot GrayLeafSpot            7\n",
            "8                        Corn(maize)CommonRust            8\n",
            "9                Corn(maize)NorthernLeafBlight            9\n",
            "10                          Corn(maize)Healthy           10\n",
            "11                               GrapeBlackRot           11\n",
            "12                     GrapeEsca(BlackMeasles)           12\n",
            "13         GrapeLeafBlight(IsariopsisLeafSpot)           13\n",
            "14                                GrapeHealthy           14\n",
            "15         OrangeHaunglongbing(CitrusGreening)           15\n",
            "16                          PeachBacterialSpot           16\n",
            "17                                PeachHealthy           17\n",
            "18                    Pepper,BellBacterialSpot           18\n",
            "19                          Pepper,BellHealthy           19\n",
            "20                           PotatoEarlyBlight           20\n",
            "21                            PotatoLateBlight           21\n",
            "22                               PotatoHealthy           22\n",
            "23                            RaspberryHealthy           23\n",
            "24                              SoybeanHealthy           24\n",
            "25                         SquashPowderyMildew           25\n",
            "26                        StrawberryLeafScorch           26\n",
            "27                           StrawberryHealthy           27\n",
            "28                         TomatoBacterialSpot           28\n",
            "29                           TomatoEarlyBlight           29\n",
            "30                            TomatoLateBlight           30\n",
            "31                              TomatoLeafMold           31\n",
            "32                      TomatoSeptoriaLeafSpot           32\n",
            "33     TomatoSpiderMites Two-spottedSpiderMite           33\n",
            "34                            TomatoTargetSpot           34\n",
            "35             TomatoTomatoYellowLeafCurlVirus           35\n",
            "36                     TomatoTomatoMosaicVirus           36\n",
            "37                               TomatoHealthy           37\n"
          ]
        }
      ],
      "source": [
        "class_dict = train_generator.class_indices\n",
        "df_labels = pd.DataFrame(\n",
        "    list(class_dict.items()),\n",
        "    columns=['class_name', 'class_index']\n",
        ")\n",
        "\n",
        "def remove_underscores_and_capitalize(s):\n",
        "    parts = s.split('_')\n",
        "    parts = [p for p in parts if p]\n",
        "    if not parts:\n",
        "        return s\n",
        "    result = parts[0]\n",
        "    for p in parts[1:]:\n",
        "        if p:\n",
        "            result += p[0].upper() + p[1:]\n",
        "    return result\n",
        "df_labels['class_name'] = df_labels['class_name'].apply(remove_underscores_and_capitalize)\n",
        "print(df_labels)"
      ]
    },
    {
      "cell_type": "code",
      "execution_count": null,
      "metadata": {
        "execution": {
          "iopub.execute_input": "2024-12-30T10:58:48.986620Z",
          "iopub.status.busy": "2024-12-30T10:58:48.986325Z",
          "iopub.status.idle": "2024-12-30T10:58:48.991644Z",
          "shell.execute_reply": "2024-12-30T10:58:48.990661Z",
          "shell.execute_reply.started": "2024-12-30T10:58:48.986595Z"
        },
        "id": "BA4cOQckX2f4"
      },
      "outputs": [],
      "source": [
        "df_labels['class_name'] = df_labels['class_name'].replace({\n",
        "    'AppleCedarAppleRust': 'AppleCedarRust',\n",
        "    'AppleAppleScab': 'AppleScab',\n",
        "    'Corn(maize)CommonRust': 'CornCommonRust',\n",
        "    'TomatoTomatoYellowLeafCurlVirus': 'TomatoYellowCurlVirus'\n",
        "})\n"
      ]
    },
    {
      "cell_type": "code",
      "execution_count": null,
      "metadata": {
        "execution": {
          "iopub.execute_input": "2024-12-30T10:58:52.243289Z",
          "iopub.status.busy": "2024-12-30T10:58:52.242935Z",
          "iopub.status.idle": "2024-12-30T10:58:52.254438Z",
          "shell.execute_reply": "2024-12-30T10:58:52.253650Z",
          "shell.execute_reply.started": "2024-12-30T10:58:52.243259Z"
        },
        "id": "jkwXrTasX2f4",
        "outputId": "a80731ab-baf6-453f-8b58-529830a8f646"
      },
      "outputs": [
        {
          "data": {
            "text/html": [
              "<div>\n",
              "<style scoped>\n",
              "    .dataframe tbody tr th:only-of-type {\n",
              "        vertical-align: middle;\n",
              "    }\n",
              "\n",
              "    .dataframe tbody tr th {\n",
              "        vertical-align: top;\n",
              "    }\n",
              "\n",
              "    .dataframe thead th {\n",
              "        text-align: right;\n",
              "    }\n",
              "</style>\n",
              "<table border=\"1\" class=\"dataframe\">\n",
              "  <thead>\n",
              "    <tr style=\"text-align: right;\">\n",
              "      <th></th>\n",
              "      <th>class_name</th>\n",
              "      <th>class_index</th>\n",
              "    </tr>\n",
              "  </thead>\n",
              "  <tbody>\n",
              "    <tr>\n",
              "      <th>0</th>\n",
              "      <td>AppleScab</td>\n",
              "      <td>0</td>\n",
              "    </tr>\n",
              "    <tr>\n",
              "      <th>1</th>\n",
              "      <td>AppleBlackRot</td>\n",
              "      <td>1</td>\n",
              "    </tr>\n",
              "    <tr>\n",
              "      <th>2</th>\n",
              "      <td>AppleCedarRust</td>\n",
              "      <td>2</td>\n",
              "    </tr>\n",
              "    <tr>\n",
              "      <th>3</th>\n",
              "      <td>AppleHealthy</td>\n",
              "      <td>3</td>\n",
              "    </tr>\n",
              "    <tr>\n",
              "      <th>4</th>\n",
              "      <td>BlueberryHealthy</td>\n",
              "      <td>4</td>\n",
              "    </tr>\n",
              "    <tr>\n",
              "      <th>5</th>\n",
              "      <td>Cherry(includingSour)PowderyMildew</td>\n",
              "      <td>5</td>\n",
              "    </tr>\n",
              "    <tr>\n",
              "      <th>6</th>\n",
              "      <td>Cherry(includingSour)Healthy</td>\n",
              "      <td>6</td>\n",
              "    </tr>\n",
              "    <tr>\n",
              "      <th>7</th>\n",
              "      <td>Corn(maize)CercosporaLeafSpot GrayLeafSpot</td>\n",
              "      <td>7</td>\n",
              "    </tr>\n",
              "    <tr>\n",
              "      <th>8</th>\n",
              "      <td>CornCommonRust</td>\n",
              "      <td>8</td>\n",
              "    </tr>\n",
              "    <tr>\n",
              "      <th>9</th>\n",
              "      <td>Corn(maize)NorthernLeafBlight</td>\n",
              "      <td>9</td>\n",
              "    </tr>\n",
              "    <tr>\n",
              "      <th>10</th>\n",
              "      <td>Corn(maize)Healthy</td>\n",
              "      <td>10</td>\n",
              "    </tr>\n",
              "    <tr>\n",
              "      <th>11</th>\n",
              "      <td>GrapeBlackRot</td>\n",
              "      <td>11</td>\n",
              "    </tr>\n",
              "    <tr>\n",
              "      <th>12</th>\n",
              "      <td>GrapeEsca(BlackMeasles)</td>\n",
              "      <td>12</td>\n",
              "    </tr>\n",
              "    <tr>\n",
              "      <th>13</th>\n",
              "      <td>GrapeLeafBlight(IsariopsisLeafSpot)</td>\n",
              "      <td>13</td>\n",
              "    </tr>\n",
              "    <tr>\n",
              "      <th>14</th>\n",
              "      <td>GrapeHealthy</td>\n",
              "      <td>14</td>\n",
              "    </tr>\n",
              "    <tr>\n",
              "      <th>15</th>\n",
              "      <td>OrangeHaunglongbing(CitrusGreening)</td>\n",
              "      <td>15</td>\n",
              "    </tr>\n",
              "    <tr>\n",
              "      <th>16</th>\n",
              "      <td>PeachBacterialSpot</td>\n",
              "      <td>16</td>\n",
              "    </tr>\n",
              "    <tr>\n",
              "      <th>17</th>\n",
              "      <td>PeachHealthy</td>\n",
              "      <td>17</td>\n",
              "    </tr>\n",
              "    <tr>\n",
              "      <th>18</th>\n",
              "      <td>Pepper,BellBacterialSpot</td>\n",
              "      <td>18</td>\n",
              "    </tr>\n",
              "    <tr>\n",
              "      <th>19</th>\n",
              "      <td>Pepper,BellHealthy</td>\n",
              "      <td>19</td>\n",
              "    </tr>\n",
              "    <tr>\n",
              "      <th>20</th>\n",
              "      <td>PotatoEarlyBlight</td>\n",
              "      <td>20</td>\n",
              "    </tr>\n",
              "    <tr>\n",
              "      <th>21</th>\n",
              "      <td>PotatoLateBlight</td>\n",
              "      <td>21</td>\n",
              "    </tr>\n",
              "    <tr>\n",
              "      <th>22</th>\n",
              "      <td>PotatoHealthy</td>\n",
              "      <td>22</td>\n",
              "    </tr>\n",
              "    <tr>\n",
              "      <th>23</th>\n",
              "      <td>RaspberryHealthy</td>\n",
              "      <td>23</td>\n",
              "    </tr>\n",
              "    <tr>\n",
              "      <th>24</th>\n",
              "      <td>SoybeanHealthy</td>\n",
              "      <td>24</td>\n",
              "    </tr>\n",
              "    <tr>\n",
              "      <th>25</th>\n",
              "      <td>SquashPowderyMildew</td>\n",
              "      <td>25</td>\n",
              "    </tr>\n",
              "    <tr>\n",
              "      <th>26</th>\n",
              "      <td>StrawberryLeafScorch</td>\n",
              "      <td>26</td>\n",
              "    </tr>\n",
              "    <tr>\n",
              "      <th>27</th>\n",
              "      <td>StrawberryHealthy</td>\n",
              "      <td>27</td>\n",
              "    </tr>\n",
              "    <tr>\n",
              "      <th>28</th>\n",
              "      <td>TomatoBacterialSpot</td>\n",
              "      <td>28</td>\n",
              "    </tr>\n",
              "    <tr>\n",
              "      <th>29</th>\n",
              "      <td>TomatoEarlyBlight</td>\n",
              "      <td>29</td>\n",
              "    </tr>\n",
              "    <tr>\n",
              "      <th>30</th>\n",
              "      <td>TomatoLateBlight</td>\n",
              "      <td>30</td>\n",
              "    </tr>\n",
              "    <tr>\n",
              "      <th>31</th>\n",
              "      <td>TomatoLeafMold</td>\n",
              "      <td>31</td>\n",
              "    </tr>\n",
              "    <tr>\n",
              "      <th>32</th>\n",
              "      <td>TomatoSeptoriaLeafSpot</td>\n",
              "      <td>32</td>\n",
              "    </tr>\n",
              "    <tr>\n",
              "      <th>33</th>\n",
              "      <td>TomatoSpiderMites Two-spottedSpiderMite</td>\n",
              "      <td>33</td>\n",
              "    </tr>\n",
              "    <tr>\n",
              "      <th>34</th>\n",
              "      <td>TomatoTargetSpot</td>\n",
              "      <td>34</td>\n",
              "    </tr>\n",
              "    <tr>\n",
              "      <th>35</th>\n",
              "      <td>TomatoYellowCurlVirus</td>\n",
              "      <td>35</td>\n",
              "    </tr>\n",
              "    <tr>\n",
              "      <th>36</th>\n",
              "      <td>TomatoTomatoMosaicVirus</td>\n",
              "      <td>36</td>\n",
              "    </tr>\n",
              "    <tr>\n",
              "      <th>37</th>\n",
              "      <td>TomatoHealthy</td>\n",
              "      <td>37</td>\n",
              "    </tr>\n",
              "  </tbody>\n",
              "</table>\n",
              "</div>"
            ],
            "text/plain": [
              "                                    class_name  class_index\n",
              "0                                    AppleScab            0\n",
              "1                                AppleBlackRot            1\n",
              "2                               AppleCedarRust            2\n",
              "3                                 AppleHealthy            3\n",
              "4                             BlueberryHealthy            4\n",
              "5           Cherry(includingSour)PowderyMildew            5\n",
              "6                 Cherry(includingSour)Healthy            6\n",
              "7   Corn(maize)CercosporaLeafSpot GrayLeafSpot            7\n",
              "8                               CornCommonRust            8\n",
              "9                Corn(maize)NorthernLeafBlight            9\n",
              "10                          Corn(maize)Healthy           10\n",
              "11                               GrapeBlackRot           11\n",
              "12                     GrapeEsca(BlackMeasles)           12\n",
              "13         GrapeLeafBlight(IsariopsisLeafSpot)           13\n",
              "14                                GrapeHealthy           14\n",
              "15         OrangeHaunglongbing(CitrusGreening)           15\n",
              "16                          PeachBacterialSpot           16\n",
              "17                                PeachHealthy           17\n",
              "18                    Pepper,BellBacterialSpot           18\n",
              "19                          Pepper,BellHealthy           19\n",
              "20                           PotatoEarlyBlight           20\n",
              "21                            PotatoLateBlight           21\n",
              "22                               PotatoHealthy           22\n",
              "23                            RaspberryHealthy           23\n",
              "24                              SoybeanHealthy           24\n",
              "25                         SquashPowderyMildew           25\n",
              "26                        StrawberryLeafScorch           26\n",
              "27                           StrawberryHealthy           27\n",
              "28                         TomatoBacterialSpot           28\n",
              "29                           TomatoEarlyBlight           29\n",
              "30                            TomatoLateBlight           30\n",
              "31                              TomatoLeafMold           31\n",
              "32                      TomatoSeptoriaLeafSpot           32\n",
              "33     TomatoSpiderMites Two-spottedSpiderMite           33\n",
              "34                            TomatoTargetSpot           34\n",
              "35                       TomatoYellowCurlVirus           35\n",
              "36                     TomatoTomatoMosaicVirus           36\n",
              "37                               TomatoHealthy           37"
            ]
          },
          "execution_count": 15,
          "metadata": {},
          "output_type": "execute_result"
        }
      ],
      "source": [
        "df_labels"
      ]
    },
    {
      "cell_type": "code",
      "execution_count": null,
      "metadata": {
        "execution": {
          "iopub.execute_input": "2024-12-30T10:59:54.365022Z",
          "iopub.status.busy": "2024-12-30T10:59:54.364703Z",
          "iopub.status.idle": "2024-12-30T10:59:58.844404Z",
          "shell.execute_reply": "2024-12-30T10:59:58.843636Z",
          "shell.execute_reply.started": "2024-12-30T10:59:54.365000Z"
        },
        "id": "qUiCBjxhX2f4",
        "outputId": "5d3d5f66-122d-40eb-840d-928b53087e1a"
      },
      "outputs": [
        {
          "name": "stdout",
          "output_type": "stream",
          "text": [
            "Accuracy on test_images: 78.79%\n"
          ]
        }
      ],
      "source": [
        "test_dir = \"/kaggle/input/new-plant-diseases-dataset/test/test\"\n",
        "test_filenames = sorted([\n",
        "    f for f in os.listdir(test_dir)\n",
        "    if f.lower().endswith((\".jpg\", \".png\"))\n",
        "])\n",
        "\n",
        "correct = 0\n",
        "total = len(test_filenames)\n",
        "\n",
        "for fname in test_filenames:\n",
        "    # Remove extension\n",
        "    name_no_ext = os.path.splitext(fname)[0]\n",
        "    label_str = re.sub(r\"\\d+\", \"\", name_no_ext)\n",
        "    label_str = label_str.replace(\"_\", \"\")\n",
        "    row_matches = df_labels[df_labels['class_name'] == label_str]\n",
        "    true_class_index = int(row_matches['class_index'].iloc[0])\n",
        "    img_path = os.path.join(test_dir, fname)\n",
        "    img = cv2.imread(img_path)\n",
        "    img = cv2.resize(img, (224, 224))\n",
        "    img = cv2.cvtColor(img, cv2.COLOR_BGR2RGB)\n",
        "    img = img.astype(np.float32) / 255.0\n",
        "    img_batch = np.expand_dims(img, axis=0)  # shape: (1, 224, 224, 3)\n",
        "    preds = model.predict(img_batch, verbose=0)  # shape: (1, num_classes)\n",
        "    pred_class_index = np.argmax(preds[0])\n",
        "    if pred_class_index == true_class_index:\n",
        "        correct += 1\n",
        "#Compute accuracy\n",
        "accuracy = correct / total if total > 0 else 0\n",
        "print(f\"Accuracy on test_images: {accuracy*100:.2f}%\")"
      ]
    },
    {
      "cell_type": "code",
      "execution_count": null,
      "metadata": {
        "id": "SDIzbdFPX2f4"
      },
      "outputs": [],
      "source": []
    }
  ],
  "metadata": {
    "kaggle": {
      "accelerator": "nvidiaTeslaT4",
      "dataSources": [
        {
          "datasetId": 78313,
          "sourceId": 182633,
          "sourceType": "datasetVersion"
        }
      ],
      "dockerImageVersionId": 30823,
      "isGpuEnabled": true,
      "isInternetEnabled": true,
      "language": "python",
      "sourceType": "notebook"
    },
    "kernelspec": {
      "display_name": "Python 3 (ipykernel)",
      "language": "python",
      "name": "python3"
    },
    "language_info": {
      "codemirror_mode": {
        "name": "ipython",
        "version": 3
      },
      "file_extension": ".py",
      "mimetype": "text/x-python",
      "name": "python",
      "nbconvert_exporter": "python",
      "pygments_lexer": "ipython3",
      "version": "3.11.4"
    },
    "colab": {
      "provenance": []
    }
  },
  "nbformat": 4,
  "nbformat_minor": 0
}